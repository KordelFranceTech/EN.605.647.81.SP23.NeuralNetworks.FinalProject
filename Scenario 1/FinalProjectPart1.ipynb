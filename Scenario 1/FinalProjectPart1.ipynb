{
 "cells": [
  {
   "cell_type": "code",
   "execution_count": 1,
   "id": "d2d1b77d",
   "metadata": {},
   "outputs": [],
   "source": [
    "import numpy as np\n",
    "import pandas as pd\n",
    "import matplotlib.pyplot as plt"
   ]
  },
  {
   "cell_type": "markdown",
   "id": "9ab94f90",
   "metadata": {},
   "source": [
    "# Part 1 Organize Data"
   ]
  },
  {
   "cell_type": "code",
   "execution_count": 2,
   "id": "fb67c901",
   "metadata": {},
   "outputs": [
    {
     "data": {
      "text/html": [
       "<div>\n",
       "<style scoped>\n",
       "    .dataframe tbody tr th:only-of-type {\n",
       "        vertical-align: middle;\n",
       "    }\n",
       "\n",
       "    .dataframe tbody tr th {\n",
       "        vertical-align: top;\n",
       "    }\n",
       "\n",
       "    .dataframe thead th {\n",
       "        text-align: right;\n",
       "    }\n",
       "</style>\n",
       "<table border=\"1\" class=\"dataframe\">\n",
       "  <thead>\n",
       "    <tr style=\"text-align: right;\">\n",
       "      <th></th>\n",
       "      <th>label</th>\n",
       "      <th>pixel0</th>\n",
       "      <th>pixel1</th>\n",
       "      <th>pixel2</th>\n",
       "      <th>pixel3</th>\n",
       "      <th>pixel4</th>\n",
       "      <th>pixel5</th>\n",
       "      <th>pixel6</th>\n",
       "      <th>pixel7</th>\n",
       "      <th>pixel8</th>\n",
       "      <th>...</th>\n",
       "      <th>pixel774</th>\n",
       "      <th>pixel775</th>\n",
       "      <th>pixel776</th>\n",
       "      <th>pixel777</th>\n",
       "      <th>pixel778</th>\n",
       "      <th>pixel779</th>\n",
       "      <th>pixel780</th>\n",
       "      <th>pixel781</th>\n",
       "      <th>pixel782</th>\n",
       "      <th>pixel783</th>\n",
       "    </tr>\n",
       "  </thead>\n",
       "  <tbody>\n",
       "    <tr>\n",
       "      <th>0</th>\n",
       "      <td>1</td>\n",
       "      <td>0</td>\n",
       "      <td>0</td>\n",
       "      <td>0</td>\n",
       "      <td>0</td>\n",
       "      <td>0</td>\n",
       "      <td>0</td>\n",
       "      <td>0</td>\n",
       "      <td>0</td>\n",
       "      <td>0</td>\n",
       "      <td>...</td>\n",
       "      <td>0</td>\n",
       "      <td>0</td>\n",
       "      <td>0</td>\n",
       "      <td>0</td>\n",
       "      <td>0</td>\n",
       "      <td>0</td>\n",
       "      <td>0</td>\n",
       "      <td>0</td>\n",
       "      <td>0</td>\n",
       "      <td>0</td>\n",
       "    </tr>\n",
       "    <tr>\n",
       "      <th>1</th>\n",
       "      <td>0</td>\n",
       "      <td>0</td>\n",
       "      <td>0</td>\n",
       "      <td>0</td>\n",
       "      <td>0</td>\n",
       "      <td>0</td>\n",
       "      <td>0</td>\n",
       "      <td>0</td>\n",
       "      <td>0</td>\n",
       "      <td>0</td>\n",
       "      <td>...</td>\n",
       "      <td>0</td>\n",
       "      <td>0</td>\n",
       "      <td>0</td>\n",
       "      <td>0</td>\n",
       "      <td>0</td>\n",
       "      <td>0</td>\n",
       "      <td>0</td>\n",
       "      <td>0</td>\n",
       "      <td>0</td>\n",
       "      <td>0</td>\n",
       "    </tr>\n",
       "    <tr>\n",
       "      <th>2</th>\n",
       "      <td>1</td>\n",
       "      <td>0</td>\n",
       "      <td>0</td>\n",
       "      <td>0</td>\n",
       "      <td>0</td>\n",
       "      <td>0</td>\n",
       "      <td>0</td>\n",
       "      <td>0</td>\n",
       "      <td>0</td>\n",
       "      <td>0</td>\n",
       "      <td>...</td>\n",
       "      <td>0</td>\n",
       "      <td>0</td>\n",
       "      <td>0</td>\n",
       "      <td>0</td>\n",
       "      <td>0</td>\n",
       "      <td>0</td>\n",
       "      <td>0</td>\n",
       "      <td>0</td>\n",
       "      <td>0</td>\n",
       "      <td>0</td>\n",
       "    </tr>\n",
       "    <tr>\n",
       "      <th>3</th>\n",
       "      <td>4</td>\n",
       "      <td>0</td>\n",
       "      <td>0</td>\n",
       "      <td>0</td>\n",
       "      <td>0</td>\n",
       "      <td>0</td>\n",
       "      <td>0</td>\n",
       "      <td>0</td>\n",
       "      <td>0</td>\n",
       "      <td>0</td>\n",
       "      <td>...</td>\n",
       "      <td>0</td>\n",
       "      <td>0</td>\n",
       "      <td>0</td>\n",
       "      <td>0</td>\n",
       "      <td>0</td>\n",
       "      <td>0</td>\n",
       "      <td>0</td>\n",
       "      <td>0</td>\n",
       "      <td>0</td>\n",
       "      <td>0</td>\n",
       "    </tr>\n",
       "    <tr>\n",
       "      <th>4</th>\n",
       "      <td>0</td>\n",
       "      <td>0</td>\n",
       "      <td>0</td>\n",
       "      <td>0</td>\n",
       "      <td>0</td>\n",
       "      <td>0</td>\n",
       "      <td>0</td>\n",
       "      <td>0</td>\n",
       "      <td>0</td>\n",
       "      <td>0</td>\n",
       "      <td>...</td>\n",
       "      <td>0</td>\n",
       "      <td>0</td>\n",
       "      <td>0</td>\n",
       "      <td>0</td>\n",
       "      <td>0</td>\n",
       "      <td>0</td>\n",
       "      <td>0</td>\n",
       "      <td>0</td>\n",
       "      <td>0</td>\n",
       "      <td>0</td>\n",
       "    </tr>\n",
       "    <tr>\n",
       "      <th>5</th>\n",
       "      <td>0</td>\n",
       "      <td>0</td>\n",
       "      <td>0</td>\n",
       "      <td>0</td>\n",
       "      <td>0</td>\n",
       "      <td>0</td>\n",
       "      <td>0</td>\n",
       "      <td>0</td>\n",
       "      <td>0</td>\n",
       "      <td>0</td>\n",
       "      <td>...</td>\n",
       "      <td>0</td>\n",
       "      <td>0</td>\n",
       "      <td>0</td>\n",
       "      <td>0</td>\n",
       "      <td>0</td>\n",
       "      <td>0</td>\n",
       "      <td>0</td>\n",
       "      <td>0</td>\n",
       "      <td>0</td>\n",
       "      <td>0</td>\n",
       "    </tr>\n",
       "    <tr>\n",
       "      <th>6</th>\n",
       "      <td>7</td>\n",
       "      <td>0</td>\n",
       "      <td>0</td>\n",
       "      <td>0</td>\n",
       "      <td>0</td>\n",
       "      <td>0</td>\n",
       "      <td>0</td>\n",
       "      <td>0</td>\n",
       "      <td>0</td>\n",
       "      <td>0</td>\n",
       "      <td>...</td>\n",
       "      <td>0</td>\n",
       "      <td>0</td>\n",
       "      <td>0</td>\n",
       "      <td>0</td>\n",
       "      <td>0</td>\n",
       "      <td>0</td>\n",
       "      <td>0</td>\n",
       "      <td>0</td>\n",
       "      <td>0</td>\n",
       "      <td>0</td>\n",
       "    </tr>\n",
       "    <tr>\n",
       "      <th>7</th>\n",
       "      <td>3</td>\n",
       "      <td>0</td>\n",
       "      <td>0</td>\n",
       "      <td>0</td>\n",
       "      <td>0</td>\n",
       "      <td>0</td>\n",
       "      <td>0</td>\n",
       "      <td>0</td>\n",
       "      <td>0</td>\n",
       "      <td>0</td>\n",
       "      <td>...</td>\n",
       "      <td>0</td>\n",
       "      <td>0</td>\n",
       "      <td>0</td>\n",
       "      <td>0</td>\n",
       "      <td>0</td>\n",
       "      <td>0</td>\n",
       "      <td>0</td>\n",
       "      <td>0</td>\n",
       "      <td>0</td>\n",
       "      <td>0</td>\n",
       "    </tr>\n",
       "  </tbody>\n",
       "</table>\n",
       "<p>8 rows × 785 columns</p>\n",
       "</div>"
      ],
      "text/plain": [
       "   label  pixel0  pixel1  pixel2  pixel3  pixel4  pixel5  pixel6  pixel7  \\\n",
       "0      1       0       0       0       0       0       0       0       0   \n",
       "1      0       0       0       0       0       0       0       0       0   \n",
       "2      1       0       0       0       0       0       0       0       0   \n",
       "3      4       0       0       0       0       0       0       0       0   \n",
       "4      0       0       0       0       0       0       0       0       0   \n",
       "5      0       0       0       0       0       0       0       0       0   \n",
       "6      7       0       0       0       0       0       0       0       0   \n",
       "7      3       0       0       0       0       0       0       0       0   \n",
       "\n",
       "   pixel8  ...  pixel774  pixel775  pixel776  pixel777  pixel778  pixel779  \\\n",
       "0       0  ...         0         0         0         0         0         0   \n",
       "1       0  ...         0         0         0         0         0         0   \n",
       "2       0  ...         0         0         0         0         0         0   \n",
       "3       0  ...         0         0         0         0         0         0   \n",
       "4       0  ...         0         0         0         0         0         0   \n",
       "5       0  ...         0         0         0         0         0         0   \n",
       "6       0  ...         0         0         0         0         0         0   \n",
       "7       0  ...         0         0         0         0         0         0   \n",
       "\n",
       "   pixel780  pixel781  pixel782  pixel783  \n",
       "0         0         0         0         0  \n",
       "1         0         0         0         0  \n",
       "2         0         0         0         0  \n",
       "3         0         0         0         0  \n",
       "4         0         0         0         0  \n",
       "5         0         0         0         0  \n",
       "6         0         0         0         0  \n",
       "7         0         0         0         0  \n",
       "\n",
       "[8 rows x 785 columns]"
      ]
     },
     "metadata": {},
     "output_type": "display_data"
    },
    {
     "data": {
      "text/html": [
       "<div>\n",
       "<style scoped>\n",
       "    .dataframe tbody tr th:only-of-type {\n",
       "        vertical-align: middle;\n",
       "    }\n",
       "\n",
       "    .dataframe tbody tr th {\n",
       "        vertical-align: top;\n",
       "    }\n",
       "\n",
       "    .dataframe thead th {\n",
       "        text-align: right;\n",
       "    }\n",
       "</style>\n",
       "<table border=\"1\" class=\"dataframe\">\n",
       "  <thead>\n",
       "    <tr style=\"text-align: right;\">\n",
       "      <th></th>\n",
       "      <th>label</th>\n",
       "      <th>pixel0</th>\n",
       "      <th>pixel1</th>\n",
       "      <th>pixel2</th>\n",
       "      <th>pixel3</th>\n",
       "      <th>pixel4</th>\n",
       "      <th>pixel5</th>\n",
       "      <th>pixel6</th>\n",
       "      <th>pixel7</th>\n",
       "      <th>pixel8</th>\n",
       "      <th>...</th>\n",
       "      <th>pixel774</th>\n",
       "      <th>pixel775</th>\n",
       "      <th>pixel776</th>\n",
       "      <th>pixel777</th>\n",
       "      <th>pixel778</th>\n",
       "      <th>pixel779</th>\n",
       "      <th>pixel780</th>\n",
       "      <th>pixel781</th>\n",
       "      <th>pixel782</th>\n",
       "      <th>pixel783</th>\n",
       "    </tr>\n",
       "  </thead>\n",
       "  <tbody>\n",
       "    <tr>\n",
       "      <th>0</th>\n",
       "      <td>1</td>\n",
       "      <td>0</td>\n",
       "      <td>0</td>\n",
       "      <td>0</td>\n",
       "      <td>0</td>\n",
       "      <td>0</td>\n",
       "      <td>0</td>\n",
       "      <td>0</td>\n",
       "      <td>0</td>\n",
       "      <td>0</td>\n",
       "      <td>...</td>\n",
       "      <td>0</td>\n",
       "      <td>0</td>\n",
       "      <td>0</td>\n",
       "      <td>0</td>\n",
       "      <td>0</td>\n",
       "      <td>0</td>\n",
       "      <td>0</td>\n",
       "      <td>0</td>\n",
       "      <td>0</td>\n",
       "      <td>0</td>\n",
       "    </tr>\n",
       "    <tr>\n",
       "      <th>1</th>\n",
       "      <td>0</td>\n",
       "      <td>0</td>\n",
       "      <td>0</td>\n",
       "      <td>0</td>\n",
       "      <td>0</td>\n",
       "      <td>0</td>\n",
       "      <td>0</td>\n",
       "      <td>0</td>\n",
       "      <td>0</td>\n",
       "      <td>0</td>\n",
       "      <td>...</td>\n",
       "      <td>0</td>\n",
       "      <td>0</td>\n",
       "      <td>0</td>\n",
       "      <td>0</td>\n",
       "      <td>0</td>\n",
       "      <td>0</td>\n",
       "      <td>0</td>\n",
       "      <td>0</td>\n",
       "      <td>0</td>\n",
       "      <td>0</td>\n",
       "    </tr>\n",
       "    <tr>\n",
       "      <th>2</th>\n",
       "      <td>1</td>\n",
       "      <td>0</td>\n",
       "      <td>0</td>\n",
       "      <td>0</td>\n",
       "      <td>0</td>\n",
       "      <td>0</td>\n",
       "      <td>0</td>\n",
       "      <td>0</td>\n",
       "      <td>0</td>\n",
       "      <td>0</td>\n",
       "      <td>...</td>\n",
       "      <td>0</td>\n",
       "      <td>0</td>\n",
       "      <td>0</td>\n",
       "      <td>0</td>\n",
       "      <td>0</td>\n",
       "      <td>0</td>\n",
       "      <td>0</td>\n",
       "      <td>0</td>\n",
       "      <td>0</td>\n",
       "      <td>0</td>\n",
       "    </tr>\n",
       "    <tr>\n",
       "      <th>3</th>\n",
       "      <td>4</td>\n",
       "      <td>0</td>\n",
       "      <td>0</td>\n",
       "      <td>0</td>\n",
       "      <td>0</td>\n",
       "      <td>0</td>\n",
       "      <td>0</td>\n",
       "      <td>0</td>\n",
       "      <td>0</td>\n",
       "      <td>0</td>\n",
       "      <td>...</td>\n",
       "      <td>0</td>\n",
       "      <td>0</td>\n",
       "      <td>0</td>\n",
       "      <td>0</td>\n",
       "      <td>0</td>\n",
       "      <td>0</td>\n",
       "      <td>0</td>\n",
       "      <td>0</td>\n",
       "      <td>0</td>\n",
       "      <td>0</td>\n",
       "    </tr>\n",
       "    <tr>\n",
       "      <th>4</th>\n",
       "      <td>0</td>\n",
       "      <td>0</td>\n",
       "      <td>0</td>\n",
       "      <td>0</td>\n",
       "      <td>0</td>\n",
       "      <td>0</td>\n",
       "      <td>0</td>\n",
       "      <td>0</td>\n",
       "      <td>0</td>\n",
       "      <td>0</td>\n",
       "      <td>...</td>\n",
       "      <td>0</td>\n",
       "      <td>0</td>\n",
       "      <td>0</td>\n",
       "      <td>0</td>\n",
       "      <td>0</td>\n",
       "      <td>0</td>\n",
       "      <td>0</td>\n",
       "      <td>0</td>\n",
       "      <td>0</td>\n",
       "      <td>0</td>\n",
       "    </tr>\n",
       "    <tr>\n",
       "      <th>5</th>\n",
       "      <td>0</td>\n",
       "      <td>0</td>\n",
       "      <td>0</td>\n",
       "      <td>0</td>\n",
       "      <td>0</td>\n",
       "      <td>0</td>\n",
       "      <td>0</td>\n",
       "      <td>0</td>\n",
       "      <td>0</td>\n",
       "      <td>0</td>\n",
       "      <td>...</td>\n",
       "      <td>0</td>\n",
       "      <td>0</td>\n",
       "      <td>0</td>\n",
       "      <td>0</td>\n",
       "      <td>0</td>\n",
       "      <td>0</td>\n",
       "      <td>0</td>\n",
       "      <td>0</td>\n",
       "      <td>0</td>\n",
       "      <td>0</td>\n",
       "    </tr>\n",
       "    <tr>\n",
       "      <th>6</th>\n",
       "      <td>7</td>\n",
       "      <td>0</td>\n",
       "      <td>0</td>\n",
       "      <td>0</td>\n",
       "      <td>0</td>\n",
       "      <td>0</td>\n",
       "      <td>0</td>\n",
       "      <td>0</td>\n",
       "      <td>0</td>\n",
       "      <td>0</td>\n",
       "      <td>...</td>\n",
       "      <td>0</td>\n",
       "      <td>0</td>\n",
       "      <td>0</td>\n",
       "      <td>0</td>\n",
       "      <td>0</td>\n",
       "      <td>0</td>\n",
       "      <td>0</td>\n",
       "      <td>0</td>\n",
       "      <td>0</td>\n",
       "      <td>0</td>\n",
       "    </tr>\n",
       "    <tr>\n",
       "      <th>7</th>\n",
       "      <td>3</td>\n",
       "      <td>0</td>\n",
       "      <td>0</td>\n",
       "      <td>0</td>\n",
       "      <td>0</td>\n",
       "      <td>0</td>\n",
       "      <td>0</td>\n",
       "      <td>0</td>\n",
       "      <td>0</td>\n",
       "      <td>0</td>\n",
       "      <td>...</td>\n",
       "      <td>0</td>\n",
       "      <td>0</td>\n",
       "      <td>0</td>\n",
       "      <td>0</td>\n",
       "      <td>0</td>\n",
       "      <td>0</td>\n",
       "      <td>0</td>\n",
       "      <td>0</td>\n",
       "      <td>0</td>\n",
       "      <td>0</td>\n",
       "    </tr>\n",
       "  </tbody>\n",
       "</table>\n",
       "<p>8 rows × 785 columns</p>\n",
       "</div>"
      ],
      "text/plain": [
       "   label  pixel0  pixel1  pixel2  pixel3  pixel4  pixel5  pixel6  pixel7  \\\n",
       "0      1       0       0       0       0       0       0       0       0   \n",
       "1      0       0       0       0       0       0       0       0       0   \n",
       "2      1       0       0       0       0       0       0       0       0   \n",
       "3      4       0       0       0       0       0       0       0       0   \n",
       "4      0       0       0       0       0       0       0       0       0   \n",
       "5      0       0       0       0       0       0       0       0       0   \n",
       "6      7       0       0       0       0       0       0       0       0   \n",
       "7      3       0       0       0       0       0       0       0       0   \n",
       "\n",
       "   pixel8  ...  pixel774  pixel775  pixel776  pixel777  pixel778  pixel779  \\\n",
       "0       0  ...         0         0         0         0         0         0   \n",
       "1       0  ...         0         0         0         0         0         0   \n",
       "2       0  ...         0         0         0         0         0         0   \n",
       "3       0  ...         0         0         0         0         0         0   \n",
       "4       0  ...         0         0         0         0         0         0   \n",
       "5       0  ...         0         0         0         0         0         0   \n",
       "6       0  ...         0         0         0         0         0         0   \n",
       "7       0  ...         0         0         0         0         0         0   \n",
       "\n",
       "   pixel780  pixel781  pixel782  pixel783  \n",
       "0         0         0         0         0  \n",
       "1         0         0         0         0  \n",
       "2         0         0         0         0  \n",
       "3         0         0         0         0  \n",
       "4         0         0         0         0  \n",
       "5         0         0         0         0  \n",
       "6         0         0         0         0  \n",
       "7         0         0         0         0  \n",
       "\n",
       "[8 rows x 785 columns]"
      ]
     },
     "metadata": {},
     "output_type": "display_data"
    }
   ],
   "source": [
    "# Read in csv train data\n",
    "train_df = pd.read_csv('data/train.csv')\n",
    "test_df = pd.read_csv('data/train.csv')\n",
    "\n",
    "display(train_df[0:8])\n",
    "display(test_df[0:8])"
   ]
  },
  {
   "cell_type": "code",
   "execution_count": 3,
   "id": "00e07970",
   "metadata": {},
   "outputs": [
    {
     "data": {
      "text/plain": [
       "array([1, 0, 1, 4, 0])"
      ]
     },
     "metadata": {},
     "output_type": "display_data"
    },
    {
     "data": {
      "text/plain": [
       "array([[0, 0, 0, ..., 0, 0, 0],\n",
       "       [0, 0, 0, ..., 0, 0, 0],\n",
       "       [0, 0, 0, ..., 0, 0, 0],\n",
       "       [0, 0, 0, ..., 0, 0, 0],\n",
       "       [0, 0, 0, ..., 0, 0, 0]])"
      ]
     },
     "metadata": {},
     "output_type": "display_data"
    },
    {
     "name": "stdout",
     "output_type": "stream",
     "text": [
      "784\n"
     ]
    }
   ],
   "source": [
    "# Extract the labels and pixel values\n",
    "X_train = train_df.iloc[:1000, 1:].to_numpy()\n",
    "y_train = train_df.iloc[:1000, 0].to_numpy()\n",
    "X_test  = test_df.iloc[:1000, 1:].to_numpy()\n",
    "y_test  = test_df.iloc[:1000, 0].to_numpy()\n",
    "\n",
    "display(y_train[0:5])\n",
    "display(X_train[0:5])\n",
    "print(len(X_train[0]))"
   ]
  },
  {
   "cell_type": "code",
   "execution_count": 4,
   "id": "97fd4d23",
   "metadata": {},
   "outputs": [
    {
     "name": "stdout",
     "output_type": "stream",
     "text": [
      "7\n",
      "0\n"
     ]
    }
   ],
   "source": [
    "# Limit the images that are from 0-10 to only 0-7\n",
    "train_limited = np.where(y_train <= 7)\n",
    "X_train = X_train[train_limited]\n",
    "y_train = y_train[train_limited]\n",
    "\n",
    "test_limited = np.where(y_test <= 7)\n",
    "X_test = X_test[test_limited]\n",
    "y_test = y_test[test_limited]\n",
    "\n",
    "print(y_train.max())\n",
    "print(y_train.min())"
   ]
  },
  {
   "cell_type": "code",
   "execution_count": 5,
   "id": "f96530b6",
   "metadata": {},
   "outputs": [],
   "source": [
    "def reshape_to_2d(matrix,size,num_observations):\n",
    "    reshaped_matrix = np.zeros((size,size,num_observations))\n",
    "    for z in range(num_observations):\n",
    "        for i in range(size):\n",
    "            for j in range(size):\n",
    "                a = i*size+j\n",
    "                reshaped_matrix[i,j,z] = matrix[z][a]\n",
    "    return reshaped_matrix\n",
    "            \n",
    "def reshape_to_1d(matrix,size,num_observations):\n",
    "    reshaped_matrix = np.zeros((size*size,num_observations))\n",
    "    for z in range(num_observations):\n",
    "        for i in range(size):\n",
    "            for j in range(size):\n",
    "                a = i*size+j\n",
    "                reshaped_matrix[a,z] = matrix[i,j,z]\n",
    "    return reshaped_matrix"
   ]
  },
  {
   "cell_type": "code",
   "execution_count": 6,
   "id": "ff6ee7c8",
   "metadata": {},
   "outputs": [],
   "source": [
    "# Create reshaped square matrix for the input data for each number image\n",
    "train_matrix = reshape_to_2d(X_train,28,len(y_train))\n",
    "test_matrix  = reshape_to_2d(X_test,28,len(y_test))"
   ]
  },
  {
   "cell_type": "code",
   "execution_count": 7,
   "id": "4adba9b5",
   "metadata": {},
   "outputs": [
    {
     "data": {
      "image/png": "[encoded data removed]",
      "text/plain": [
       "<Figure size 432x288 with 1 Axes>"
      ]
     },
     "metadata": {
      "needs_background": "light"
     },
     "output_type": "display_data"
    },
    {
     "data": {
      "image/png": "[encoded data removed]",
      "text/plain": [
       "<Figure size 432x288 with 1 Axes>"
      ]
     },
     "metadata": {
      "needs_background": "light"
     },
     "output_type": "display_data"
    },
    {
     "data": {
      "image/png": "[encoded data removed]",
      "text/plain": [
       "<Figure size 432x288 with 1 Axes>"
      ]
     },
     "metadata": {
      "needs_background": "light"
     },
     "output_type": "display_data"
    },
    {
     "data": {
      "image/png": "[encoded data removed]",
      "text/plain": [
       "<Figure size 432x288 with 1 Axes>"
      ]
     },
     "metadata": {
      "needs_background": "light"
     },
     "output_type": "display_data"
    },
    {
     "data": {
      "image/png": "[encoded data removed]",
      "text/plain": [
       "<Figure size 432x288 with 1 Axes>"
      ]
     },
     "metadata": {
      "needs_background": "light"
     },
     "output_type": "display_data"
    }
   ],
   "source": [
    "# Print the reshaped square matrix as an image\n",
    "for i in range(5):\n",
    "    a = train_matrix[:,:,i]\n",
    "    plt.imshow(a)\n",
    "    plt.title(f\"Image of Number Value: {y_train[i]}\")\n",
    "    plt.show()"
   ]
  },
  {
   "cell_type": "code",
   "execution_count": 8,
   "id": "c267ec98",
   "metadata": {},
   "outputs": [
    {
     "name": "stdout",
     "output_type": "stream",
     "text": [
      "(10, 10, 810)\n",
      "(10, 10, 810)\n"
     ]
    }
   ],
   "source": [
    "# cast the current 28x28 images to 10x10 images\n",
    "# Normalize pixel values to max of the pixel values\n",
    "\n",
    "import scipy.ndimage\n",
    "\n",
    "resized_train_matrix = np.zeros((10,10,len(y_train)))\n",
    "resized_test_matrix  = np.zeros((10,10,len(y_test)))\n",
    "\n",
    "for z in range(len(y_train)):\n",
    "    resized_train_matrix[:,:,z] = scipy.ndimage.zoom(train_matrix[:,:,z], (10/28, 10/28), order=1)/X_train.max()\n",
    "for z in range(len(y_test)):\n",
    "    resized_test_matrix[:,:,z] = scipy.ndimage.zoom(test_matrix[:,:,z], (10/28, 10/28), order=1)/X_test.max()\n",
    "    \n",
    "print(resized_train_matrix.shape)\n",
    "print(resized_test_matrix.shape)"
   ]
  },
  {
   "cell_type": "code",
   "execution_count": 9,
   "id": "84ea197a",
   "metadata": {},
   "outputs": [
    {
     "data": {
      "image/png": "[encoded data removed]",
      "text/plain": [
       "<Figure size 432x288 with 1 Axes>"
      ]
     },
     "metadata": {
      "needs_background": "light"
     },
     "output_type": "display_data"
    },
    {
     "data": {
      "image/png": "[encoded data removed]",
      "text/plain": [
       "<Figure size 432x288 with 1 Axes>"
      ]
     },
     "metadata": {
      "needs_background": "light"
     },
     "output_type": "display_data"
    },
    {
     "data": {
      "image/png": "[encoded data removed]",
      "text/plain": [
       "<Figure size 432x288 with 1 Axes>"
      ]
     },
     "metadata": {
      "needs_background": "light"
     },
     "output_type": "display_data"
    },
    {
     "data": {
      "image/png": "[encoded data removed]",
      "text/plain": [
       "<Figure size 432x288 with 1 Axes>"
      ]
     },
     "metadata": {
      "needs_background": "light"
     },
     "output_type": "display_data"
    },
    {
     "data": {
      "image/png": "[encoded data removed]",
      "text/plain": [
       "<Figure size 432x288 with 1 Axes>"
      ]
     },
     "metadata": {
      "needs_background": "light"
     },
     "output_type": "display_data"
    }
   ],
   "source": [
    "# Print the reshaped square matrix as an image\n",
    "for i in range(5):\n",
    "    a = resized_train_matrix[:,:,i]\n",
    "    plt.imshow(a)\n",
    "    plt.title(f\"Image of Number Value: {y_train[i]}\")\n",
    "    plt.show()"
   ]
  },
  {
   "cell_type": "markdown",
   "id": "691aa5d8",
   "metadata": {},
   "source": [
    "# Part 2 Train the Hopfield Network"
   ]
  },
  {
   "cell_type": "code",
   "execution_count": 10,
   "id": "bd6241eb",
   "metadata": {},
   "outputs": [],
   "source": [
    "# # Create hopfield networks\n",
    "# binary_train_images = (resized_train_matrix > 0.5).astype(int) * 2 - 1\n",
    "# binary_test_images = (resized_test_matrix > 0.5).astype(int) * 2 - 1\n",
    "\n",
    "# print(binary_train_images[:,:,1])"
   ]
  },
  {
   "cell_type": "code",
   "execution_count": 11,
   "id": "c68f31a0",
   "metadata": {},
   "outputs": [],
   "source": [
    "# # Flatten images from square 10x10 to 1 dimensional 100\n",
    "# flattened_train_images = reshape_to_1d(binary_train_images,)\n",
    "# flattened_test_images\n",
    "\n",
    "\n",
    "# flattened_train_images = np.zeros((100,len(y_train)))\n",
    "# flattened_test_images  = np.zeros((100,len(y_test)))\n",
    "\n",
    "# for z in range(len(y_train)):\n",
    "#     for i in range(10):\n",
    "#         for j in range(10):\n",
    "#             a = i*10+j\n",
    "#             flattened_train_images[a,z] = binary_train_images[i,j,z]\n",
    "            \n",
    "# for z in range(len(y_test)):\n",
    "#     for i in range(10):\n",
    "#         for j in range(10):\n",
    "#             a = i*10+j\n",
    "#             flattened_test_images[a,z] = binary_test_images[i,j,z]"
   ]
  },
  {
   "cell_type": "code",
   "execution_count": 12,
   "id": "23f633bc",
   "metadata": {},
   "outputs": [],
   "source": [
    "# # Create an array of 8 exemplars 0-7\n",
    "# exemplar_list = []\n",
    "# for i in range(8):\n",
    "#     number_value = np.where(y_train == i)\n",
    "#     exemplar_list.append(flattened_train_images[:,number_value[0][0]])\n",
    "    \n",
    "# print((exemplar_list[0]))"
   ]
  },
  {
   "cell_type": "code",
   "execution_count": 13,
   "id": "c5182f4b",
   "metadata": {},
   "outputs": [],
   "source": [
    "# def create_weight_matrix(input_size,exemplars):\n",
    "#     weights = np.zeros((input_size, input_size))\n",
    "#     for exemplar in exemplars:\n",
    "#         weights += np.outer(exemplar, exemplar)\n",
    "#     np.fill_diagonal(weights, 0)\n",
    "#     return weights"
   ]
  },
  {
   "cell_type": "code",
   "execution_count": 14,
   "id": "364d489e",
   "metadata": {},
   "outputs": [],
   "source": [
    "# input_size = 100\n",
    "# weights = create_weight_matrix(input_size,exemplar_list)"
   ]
  },
  {
   "cell_type": "code",
   "execution_count": 15,
   "id": "393b45ae",
   "metadata": {},
   "outputs": [],
   "source": [
    "# def test_network(noisy_exemplar, weight_matrix, num_sequences):\n",
    "#     for i in range(num_sequences):\n",
    "#         exemplar_output = np.sign(np.dot(weight_matrix,noisy_exemplar))\n",
    "#         noisy_exemplar = exemplar_output\n",
    "#     return exemplar_output\n",
    "\n",
    "# def resize_1d_to_2d(matrix):\n",
    "#     dimension = int(np.sqrt(len(matrix)))\n",
    "#     output_square_matrix = np.zeros((dimension,dimension))\n",
    "#     for i in range(dimension):\n",
    "#         for j in range(dimension):\n",
    "#             a = i*dimension+j\n",
    "#             output_square_matrix[i,j] = matrix[a]\n",
    "#     return output_square_matrix"
   ]
  },
  {
   "cell_type": "code",
   "execution_count": 16,
   "id": "7a5b93ea",
   "metadata": {},
   "outputs": [],
   "source": [
    "# image_numeric_value = 4\n",
    "# noisy_exemplar_index = np.where(y_train == image_numeric_value)\n",
    "# noisy_exemplar = flattened_train_images[:,noisy_exemplar_index[0][1]]\n",
    "\n",
    "# exemplar_output = test_network(noisy_exemplar,weights,4)\n",
    "# square = resize_1d_to_2d(exemplar_output)\n",
    "# plt.imshow(square)\n",
    "# plt.title(f\"Image of Number Value: {y_train[i]}\")\n",
    "# plt.show()"
   ]
  },
  {
   "cell_type": "code",
   "execution_count": 17,
   "id": "cd9f8dab",
   "metadata": {},
   "outputs": [],
   "source": [
    "# def add_noise(pattern, noise_level):\n",
    "#     # Add a matrix and a noise decimal value which equates to a percentage that any given value in that matrix would flip to the opposite binary\n",
    "#     # value\n",
    "#     pass"
   ]
  },
  {
   "cell_type": "markdown",
   "id": "e6c1cdcc",
   "metadata": {},
   "source": [
    "# Part 3 Restrictive Boltzmann Machine"
   ]
  },
  {
   "cell_type": "code",
   "execution_count": 18,
   "id": "b10975a0",
   "metadata": {},
   "outputs": [
    {
     "name": "stdout",
     "output_type": "stream",
     "text": [
      "(10, 10, 810)\n",
      "(784, 810)\n",
      "(810,)\n",
      "(10, 10, 810)\n",
      "(784, 810)\n",
      "(810,)\n"
     ]
    }
   ],
   "source": [
    "# Flatten images from square 10x10 to 1 dimensional 100\n",
    "flattened_train_images = reshape_to_1d(train_matrix,28,len(y_train))\n",
    "flattened_test_images  = reshape_to_1d(test_matrix,28,len(y_train))\n",
    "\n",
    "# Re-Referencing Pre-Processed Data\n",
    "print(resized_train_matrix.shape)\n",
    "print(flattened_train_images.shape)\n",
    "print(y_train.shape)\n",
    "print(resized_test_matrix.shape)\n",
    "print(flattened_test_images.shape)\n",
    "print(y_test.shape)\n"
   ]
  },
  {
   "cell_type": "code",
   "execution_count": 19,
   "id": "52b0de92",
   "metadata": {},
   "outputs": [],
   "source": [
    "# Initialize nodes for the RBM\n",
    "# Number of visible nodes\n",
    "num_visible_nodes = flattened_train_images.shape[0]\n",
    "\n",
    "# Number of hidden nodes\n",
    "num_hidden_nodes = 64\n",
    "\n",
    "# Initialize the weight matrix (n_visible x n_hidden)\n",
    "np.random.seed(46)\n",
    "weights = np.random.rand(num_visible_nodes, num_hidden_nodes) * 0.01\n",
    "\n",
    "# Initialize the visible and hidden biases\n",
    "visible_biases = np.zeros((num_visible_nodes,1))\n",
    "hidden_biases = np.zeros((1,num_hidden_nodes))\n"
   ]
  },
  {
   "cell_type": "code",
   "execution_count": 20,
   "id": "1d7063af",
   "metadata": {},
   "outputs": [],
   "source": [
    "def sigmoid(x):\n",
    "    return 1 / (1 + np.exp(-x))\n",
    "\n",
    "def sampling(probabilities):\n",
    "    prob_comparison_matrix = np.random.rand(*probabilities.shape)\n",
    "    output_binary_matrix = (prob_comparison_matrix < probabilities).astype(np.int32)\n",
    "    return output_binary_matrix\n",
    "\n",
    "def RBM_Training(weights,visible_biases,hidden_biases,learning_rate,batch_size,epochs):\n",
    "    for epoch in range(n_epochs):\n",
    "        for batch_idx in range(n_batches):\n",
    "            start = batch_idx * batch_size\n",
    "            end = (batch_idx + 1) * batch_size\n",
    "\n",
    "            visible_initial = flattened_train_images[:, start:end]    \n",
    "            hidden_prob = sigmoid(np.dot(visible_initial.T, weights) + hidden_biases)\n",
    "            hidden_binary = sampling(hidden_prob)\n",
    "\n",
    "            visible_iter_prob = sigmoid(np.dot(weights, hidden_binary.T) + visible_biases)\n",
    "            visible_iter_binary = sampling(visible_iter_prob)\n",
    "            hidden_iter_prob = sigmoid(np.dot(visible_iter_binary.T, weights) + hidden_biases)\n",
    "            hidden_iter_binary = sampling(hidden_iter_prob)\n",
    "\n",
    "            delta_w = learning_rate * (np.dot(hidden_binary.T, visible_initial.T) - \\\n",
    "                                       np.dot(hidden_iter_binary.T, visible_iter_binary.T)) / batch_size\n",
    "            weights += delta_w.T\n",
    "            visible_biases += learning_rate * np.mean(visible_initial - visible_iter_binary, axis=1, keepdims=True)\n",
    "            hidden_biases += learning_rate * np.mean(hidden_binary - hidden_iter_binary, axis=0, keepdims=True)\n",
    "        \n",
    "    return weights,visible_biases,hidden_biases\n",
    "\n",
    "def reconstruct_image(test_data, w, vb, hb):\n",
    "    h_prob = sigmoid(np.dot(test_data.T, w) + hb)\n",
    "    h = sampling(h_prob)\n",
    "    v_prob = sigmoid(np.dot(h, w.T) + vb.T)\n",
    "    v_reconstructed = sampling(v_prob)\n",
    "    return v_reconstructed.T\n",
    "    "
   ]
  },
  {
   "cell_type": "code",
   "execution_count": 23,
   "id": "4b3fe6c2",
   "metadata": {},
   "outputs": [
    {
     "name": "stdout",
     "output_type": "stream",
     "text": [
      "Learning rate: 0.5\n"
     ]
    },
    {
     "data": {
      "image/png": "[encoded data removed]",
      "text/plain": [
       "<Figure size 432x288 with 1 Axes>"
      ]
     },
     "metadata": {
      "needs_background": "light"
     },
     "output_type": "display_data"
    },
    {
     "data": {
      "image/png": "[encoded data removed]",
      "text/plain": [
       "<Figure size 432x288 with 1 Axes>"
      ]
     },
     "metadata": {
      "needs_background": "light"
     },
     "output_type": "display_data"
    },
    {
     "data": {
      "image/png": "[encoded data removed]",
      "text/plain": [
       "<Figure size 432x288 with 1 Axes>"
      ]
     },
     "metadata": {
      "needs_background": "light"
     },
     "output_type": "display_data"
    },
    {
     "data": {
      "image/png": "[encoded data removed]",
      "text/plain": [
       "<Figure size 432x288 with 1 Axes>"
      ]
     },
     "metadata": {
      "needs_background": "light"
     },
     "output_type": "display_data"
    },
    {
     "data": {
      "image/png": "[encoded data removed]",
      "text/plain": [
       "<Figure size 432x288 with 1 Axes>"
      ]
     },
     "metadata": {
      "needs_background": "light"
     },
     "output_type": "display_data"
    }
   ],
   "source": [
    "# Set hyperparameters\n",
    "n_epochs = 80\n",
    "batch_size = 10\n",
    "learning_rates = [0.5]\n",
    "n_samples = flattened_train_images.shape[1]\n",
    "n_batches = int(n_samples / batch_size)\n",
    "\n",
    "for learning_rate in learning_rates:\n",
    "    print(f'Learning rate: {learning_rate}')\n",
    "    # Create copies of current weights and biases\n",
    "    weights_copy = weights.copy()\n",
    "    visible_biases_copy = visible_biases.copy()\n",
    "    hidden_biases_copy = hidden_biases.copy()\n",
    "\n",
    "    # Run Training function\n",
    "    weights_copy,visible_biases_copy,hidden_biases_copy = RBM_Training\\\n",
    "        (weights_copy,visible_biases_copy,hidden_biases_copy,learning_rate,batch_size,n_epochs)\n",
    "\n",
    "    # Reconstruct images with trained weights and biases\n",
    "    reconstructed_images = reconstruct_image(flattened_test_images, weights_copy, visible_biases_copy, hidden_biases_copy)\n",
    "\n",
    "    square_reconstructed_test_images  = np.zeros((10,10,len(reconstructed_images)))\n",
    "\n",
    "    for z in range(len(reconstructed_images)):\n",
    "        for i in range(10):\n",
    "            for j in range(10):\n",
    "                a = i*10+j\n",
    "                square_reconstructed_test_images[i,j,z] = reconstructed_images[a,z] \n",
    "\n",
    "    # Print the reshaped square matrix as an image\n",
    "    for i in range(5):\n",
    "        a = square_reconstructed_test_images[:,:,i]\n",
    "        plt.imshow(a)\n",
    "        plt.title(f\"Image of Number Value: {y_test[i]}\")\n",
    "        plt.show()"
   ]
  },
  {
   "cell_type": "code",
   "execution_count": null,
   "id": "1e47f30e",
   "metadata": {},
   "outputs": [],
   "source": []
  }
 ],
 "metadata": {
  "interpreter": {
   "hash": "1c5e3c73be33766981fa887eb7b55f4b607a5336582ccfab5e568492ae3e6b21"
  },
  "kernelspec": {
   "display_name": "Python 3 (ipykernel)",
   "language": "python",
   "name": "python3"
  },
  "language_info": {
   "codemirror_mode": {
    "name": "ipython",
    "version": 3
   },
   "file_extension": ".py",
   "mimetype": "text/x-python",
   "name": "python",
   "nbconvert_exporter": "python",
   "pygments_lexer": "ipython3",
   "version": "3.10.0"
  }
 },
 "nbformat": 4,
 "nbformat_minor": 5
}
